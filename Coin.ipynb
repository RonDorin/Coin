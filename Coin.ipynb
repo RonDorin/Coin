{
 "cells": [
  {
   "cell_type": "code",
   "execution_count": 4,
   "metadata": {},
   "outputs": [],
   "source": [
    "import math\n",
    "import matplotlib.pylab as plt \n",
    "import matplotlib.axes\n",
    "import numpy as np \n",
    "from matplotlib.animation import FuncAnimation"
   ]
  },
  {
   "cell_type": "code",
   "execution_count": 5,
   "metadata": {},
   "outputs": [],
   "source": [
    "h = 22\n",
    "l = 3\n",
    "l_0 = 1.9\n",
    "c = 2.3\n",
    "side = 0"
   ]
  },
  {
   "cell_type": "code",
   "execution_count": 7,
   "metadata": {},
   "outputs": [
    {
     "name": "stdout",
     "output_type": "stream",
     "text": [
      "timestep 22\n",
      "timestep 22\n",
      "timestep 21\n",
      "timestep 20\n",
      "timestep 19\n",
      "timestep 18\n",
      "timestep 17\n",
      "timestep 16\n",
      "timestep 15\n",
      "timestep 14\n",
      "timestep 13\n",
      "timestep 12\n",
      "timestep 11\n",
      "timestep 10\n",
      "timestep 9\n",
      "timestep 8\n",
      "timestep 7\n",
      "timestep 6\n",
      "timestep 5\n",
      "timestep 4\n",
      "timestep 3\n",
      "timestep 2\n",
      "timestep 1\n",
      "timestep 22\n"
     ]
    },
    {
     "data": {
      "image/png": "[encoded data removed]",
      "text/plain": [
       "<Figure size 432x288 with 1 Axes>"
      ]
     },
     "metadata": {
      "needs_background": "light"
     },
     "output_type": "display_data"
    }
   ],
   "source": [
    "fig, ax = plt.subplots()\n",
    "fig.set_tight_layout(True)\n",
    "plt.xlim(-1,1)\n",
    "plt.ylim(-1,1)\n",
    "\n",
    "plt.axvline(x = 0, ymin=-1, ymax=1, color =\"black\")\n",
    "plt.axhline(y = 0, xmin=-1, xmax=1, color =\"black\")\n",
    "    \n",
    "    \n",
    "x = np.linspace(-1,1,100)\n",
    "y = [0]*x.shape[0]\n",
    "epsilon = 0.1\n",
    "\n",
    "if side == 1:\n",
    "    line_eagle, = ax.plot(x, y, 'r-', linewidth=2, marker=11)\n",
    "    line_tail, = ax.plot(x, [epsilon]*x.shape[0], 'g-', linewidth=2)\n",
    "else: \n",
    "    line_eagle, = ax.plot(x, y, 'r-', linewidth=2, marker=11)\n",
    "    line_tail, = ax.plot(x, [epsilon]*x.shape[0], 'g-', linewidth=2)\n",
    "    \n",
    "sum_angle = 0\n",
    "\n",
    "def update(h_delta):\n",
    "    global sum_angle\n",
    "    label = 'timestep {0}'.format(h_delta)\n",
    "    print(label)\n",
    "\n",
    "    fi = c*math.sqrt(l_0*h_delta)/(l-l_0)\n",
    "    sin_fi = math.sin(fi)\n",
    "    sum_angle += sin_fi\n",
    "    line_eagle.set_ydata(x*math.tan(sum_angle))\n",
    "    line_tail.set_ydata(x*math.tan(sum_angle))\n",
    "\n",
    "    ax.set_xlabel(label)\n",
    "    return line_eagle, line_tail, ax\n",
    "        \n",
    "    \n",
    "anim = FuncAnimation(fig, update, frames=range(h, 0, -1), interval=200)\n",
    "anim.save('line.gif', dpi=80, writer='imagemagick')"
   ]
  },
  {
   "cell_type": "code",
   "execution_count": 4,
   "metadata": {},
   "outputs": [],
   "source": [
    "def get_coin_side(h, l, l_0, c, side):\n",
    "    fi = c*math.sqrt(l_0*h)/(l-l_0)\n",
    "    sin_fi = math.sin(fi)\n",
    "    resutl = 0.5*(1 + math.copysign(1, sin_fi*side))\n",
    "    return int(resutl)"
   ]
  },
  {
   "cell_type": "code",
   "execution_count": null,
   "metadata": {},
   "outputs": [],
   "source": [
    "result = get_coin_side(sin_fi, side)\n",
    "result "
   ]
  }
 ],
 "metadata": {
  "kernelspec": {
   "display_name": "Python 3",
   "language": "python",
   "name": "python3"
  },
  "language_info": {
   "codemirror_mode": {
    "name": "ipython",
    "version": 3
   },
   "file_extension": ".py",
   "mimetype": "text/x-python",
   "name": "python",
   "nbconvert_exporter": "python",
   "pygments_lexer": "ipython3",
   "version": "3.7.7"
  }
 },
 "nbformat": 4,
 "nbformat_minor": 4
}
