{
 "cells": [
  {
   "cell_type": "code",
   "execution_count": 1,
   "metadata": {},
   "outputs": [],
   "source": [
    "import math"
   ]
  },
  {
   "cell_type": "code",
   "execution_count": 2,
   "metadata": {},
   "outputs": [],
   "source": [
    "h = 20\n",
    "l = 3\n",
    "l_0 = 1\n",
    "c = 2.3\n",
    "k = 1"
   ]
  },
  {
   "cell_type": "code",
   "execution_count": 3,
   "metadata": {},
   "outputs": [],
   "source": [
    "def get_sin_fi(h, l, l_0, c, k):\n",
    "    fi = c*math.sqrt(l_0*h)/l-l_0\n",
    "    sin_fi = math.sin(fi)\n",
    "    #result = 0.5*(1 + math.copysign(1, sin_fi*k))\n",
    "    \n",
    "    return sin_fi "
   ]
  },
  {
   "cell_type": "code",
   "execution_count": 4,
   "metadata": {},
   "outputs": [],
   "source": [
    "def coin_fall(h, l, l_0, c, k):\n",
    "    for h_delta in range(h, 0, -1):\n",
    "        sin_fi = get_sin_fi(h_delta, l, l_0, c, k)\n",
    "        #sin_fi = math.sin(fi)\n",
    "        print(sin_fi)\n",
    "    \n",
    "    return sin_fi"
   ]
  },
  {
   "cell_type": "code",
   "execution_count": 8,
   "metadata": {},
   "outputs": [],
   "source": [
    "def get_coin_side(sin_fi):\n",
    "    resutl = 0.5*(1 + math.copysign(1, sin_fi*k))\n",
    "    return int(resutl)"
   ]
  },
  {
   "cell_type": "code",
   "execution_count": 9,
   "metadata": {},
   "outputs": [
    {
     "name": "stdout",
     "output_type": "stream",
     "text": [
      "0.6540719478256316\n",
      "0.7171959201224045\n",
      "0.7763798445800002\n",
      "0.8308008284791458\n",
      "0.879554937617562\n",
      "0.9216476141406053\n",
      "0.9559820706788543\n",
      "0.9813449736547875\n",
      "0.996388408441639\n",
      "0.9996066061956024\n",
      "0.9893050603766587\n",
      "0.963558185417193\n",
      "0.920148984101265\n",
      "0.8564790024384754\n",
      "0.7694260775440711\n",
      "0.6551028820736298\n",
      "0.508406550931301\n",
      "0.3220609461667405\n",
      "0.0841308340699437\n",
      "-0.23122180563429862\n"
     ]
    },
    {
     "data": {
      "text/plain": [
       "-0.23122180563429862"
      ]
     },
     "execution_count": 9,
     "metadata": {},
     "output_type": "execute_result"
    }
   ],
   "source": [
    "sin_fi = coin_fall(h, l, l_0, c, k)\n",
    "sin_fi"
   ]
  },
  {
   "cell_type": "code",
   "execution_count": 10,
   "metadata": {},
   "outputs": [
    {
     "data": {
      "text/plain": [
       "0"
      ]
     },
     "execution_count": 10,
     "metadata": {},
     "output_type": "execute_result"
    }
   ],
   "source": [
    "result = get_coin_side(sin_fi)\n",
    "result "
   ]
  },
  {
   "cell_type": "code",
   "execution_count": null,
   "metadata": {},
   "outputs": [],
   "source": []
  }
 ],
 "metadata": {
  "kernelspec": {
   "display_name": "Python 3",
   "language": "python",
   "name": "python3"
  },
  "language_info": {
   "codemirror_mode": {
    "name": "ipython",
    "version": 3
   },
   "file_extension": ".py",
   "mimetype": "text/x-python",
   "name": "python",
   "nbconvert_exporter": "python",
   "pygments_lexer": "ipython3",
   "version": "3.7.7"
  }
 },
 "nbformat": 4,
 "nbformat_minor": 4
}
