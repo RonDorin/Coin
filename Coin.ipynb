{
 "cells": [
  {
   "cell_type": "code",
   "execution_count": 1,
   "metadata": {},
   "outputs": [],
   "source": [
    "import math\n",
    "import matplotlib.pylab as plt \n",
    "import matplotlib.axes\n",
    "import numpy as np \n",
    "from matplotlib.animation import FuncAnimation"
   ]
  },
  {
   "cell_type": "code",
   "execution_count": 2,
   "metadata": {},
   "outputs": [],
   "source": [
    "h = 22\n",
    "l = 3\n",
    "l_0 = 1.9\n",
    "c = 2.3\n",
    "side = 1"
   ]
  },
  {
   "cell_type": "code",
   "execution_count": 3,
   "metadata": {},
   "outputs": [],
   "source": [
    "def count_angle(l, l_0, c, sum_angle, h_delta):    \n",
    "    fi = c*math.sqrt(l_0*h_delta)/(l-l_0)\n",
    "    #sin_fi = math.sin(fi)\n",
    "    \n",
    "    return fi "
   ]
  },
  {
   "cell_type": "code",
   "execution_count": 6,
   "metadata": {},
   "outputs": [
    {
     "name": "stdout",
     "output_type": "stream",
     "text": [
      "timestep 0\n",
      "0.0\n",
      "timestep 0\n",
      "0.0\n",
      "timestep 1\n",
      "2.882119284527955\n",
      "timestep 2\n",
      "6.958051465084431\n",
      "timestep 3\n",
      "11.950028499360911\n",
      "timestep 4\n",
      "17.71426706841682\n",
      "timestep 5\n",
      "24.158881707884383\n",
      "timestep 6\n",
      "31.218603332813203\n",
      "timestep 7\n",
      "38.84397420849758\n",
      "timestep 8\n",
      "46.99583856961053\n",
      "timestep 9\n",
      "55.64219642319439\n",
      "timestep 10\n",
      "64.75625785059762\n",
      "timestep 11\n",
      "74.3151661184244\n",
      "timestep 12\n",
      "84.29912018697736\n",
      "timestep 13\n",
      "94.6907490493465\n",
      "timestep 14\n",
      "105.47465195986415\n",
      "timestep 15\n",
      "116.63705195062415\n",
      "timestep 16\n",
      "128.16552908873598\n",
      "timestep 17\n",
      "140.04881132447434\n",
      "timestep 18\n",
      "152.27660786614376\n",
      "timestep 19\n",
      "164.83947457063087\n",
      "timestep 20\n",
      "177.728703849566\n",
      "timestep 21\n",
      "190.9362336328073\n",
      "timestep 0\n",
      "190.9362336328073\n"
     ]
    },
    {
     "data": {
      "image/png": "[encoded data removed]",
      "text/plain": [
       "<Figure size 432x288 with 1 Axes>"
      ]
     },
     "metadata": {
      "needs_background": "light"
     },
     "output_type": "display_data"
    }
   ],
   "source": [
    "fig, ax = plt.subplots()\n",
    "fig.set_tight_layout(True)\n",
    "plt.xlim(-1,1)\n",
    "plt.ylim(-1,1)\n",
    "\n",
    "plt.axvline(x = 0, ymin=-1, ymax=1, color =\"black\")\n",
    "plt.axhline(y = 0, xmin=-1, xmax=1, color =\"black\")\n",
    "    \n",
    "    \n",
    "x = np.linspace(-1,1,100)\n",
    "y = [0]*x.shape[0]\n",
    "y_epsilon = [0.05]*x.shape[0]\n",
    "\n",
    "if side == 1:\n",
    "    line_tail, = ax.plot(x, y_epsilon, 'g-', linewidth=2)\n",
    "    line_eagle, = ax.plot(x, y, 'r-', linewidth=2)\n",
    "else: \n",
    "    line_tail, = ax.plot(x, y, 'g-', linewidth=2)\n",
    "    line_eagle, = ax.plot(x, y_epsilon, 'r-', linewidth=2)\n",
    "    \n",
    "sum_angle = 0\n",
    "def update(h_delta):\n",
    "    global sum_angle\n",
    "    label = 'timestep {0}'.format(h_delta)\n",
    "    print(label)\n",
    "    \n",
    "    sum_angle += count_angle(l, l_0, c, sum_angle, h_delta)\n",
    "    print(sum_angle)\n",
    "    \n",
    "    if math.copysign(1, math.sin(sum_angle))*side > 0: \n",
    "        line_eagle.set_ydata(x*math.tan(sum_angle))\n",
    "        line_tail.set_ydata(x*math.tan(sum_angle) + y_epsilon)\n",
    "    else: \n",
    "        line_eagle.set_ydata(x*math.tan(sum_angle) + y_epsilon)\n",
    "        line_tail.set_ydata(x*math.tan(sum_angle))\n",
    "\n",
    "    ax.set_xlabel(label)\n",
    "    return line_eagle, line_tail, ax\n",
    "        \n",
    "    \n",
    "anim = FuncAnimation(fig, update, frames=range(h), interval=400)\n",
    "anim.save('line.gif', dpi=150, writer='imagemagick')"
   ]
  },
  {
   "cell_type": "code",
   "execution_count": null,
   "metadata": {},
   "outputs": [],
   "source": [
    "def get_coin_side(h, l, l_0, c, side):\n",
    "    fi = c*math.sqrt(l_0*h)/(l-l_0)\n",
    "    sin_fi = math.sin(fi)\n",
    "    resutl = 0.5*(1 + math.copysign(1, sin_fi)*side)\n",
    "    return int(resutl)"
   ]
  },
  {
   "cell_type": "code",
   "execution_count": null,
   "metadata": {},
   "outputs": [],
   "source": [
    "result = get_coin_side(h, l, l_0, c, side)\n",
    "result "
   ]
  }
 ],
 "metadata": {
  "kernelspec": {
   "display_name": "Python 3",
   "language": "python",
   "name": "python3"
  },
  "language_info": {
   "codemirror_mode": {
    "name": "ipython",
    "version": 3
   },
   "file_extension": ".py",
   "mimetype": "text/x-python",
   "name": "python",
   "nbconvert_exporter": "python",
   "pygments_lexer": "ipython3",
   "version": "3.7.7"
  }
 },
 "nbformat": 4,
 "nbformat_minor": 4
}
